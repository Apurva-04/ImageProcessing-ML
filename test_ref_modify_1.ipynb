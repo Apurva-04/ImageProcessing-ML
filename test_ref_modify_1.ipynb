{
 "cells": [
  {
   "cell_type": "code",
   "execution_count": 1,
   "metadata": {},
   "outputs": [],
   "source": [
    "import numpy as np\n",
    "import matplotlib.pyplot as plt\n",
    "import keras\n",
    "from keras.preprocessing.image import ImageDataGenerator,load_img,img_to_array\n",
    "from keras.models import Sequential\n",
    "from keras.layers import Conv2D,MaxPooling2D,UpSampling2D,Flatten,Dropout,Dense,BatchNormalization"
   ]
  },
  {
   "cell_type": "code",
   "execution_count": 2,
   "metadata": {},
   "outputs": [
    {
     "name": "stdout",
     "output_type": "stream",
     "text": [
      "\n",
      "Loding Train dataset :\n",
      "100.00 %\n",
      "Loding Test dataset :\n",
      "100.00 %\r"
     ]
    }
   ],
   "source": [
    "import os\n",
    "\n",
    "x_train=[]\n",
    "y_train=[]\n",
    "x_test=[]\n",
    "y_test=[]\n",
    "\n",
    "path_train_low='../dataSets/ref/our485/low/'\n",
    "path_train_high='../dataSets/ref/our485/high/'\n",
    "path_test_low='../dataSets/ref/eval15/low/'\n",
    "path_test_high='../dataSets/ref/eval15/high/'\n",
    "\n",
    "print('\\nLoding Train dataset :')\n",
    "i=0;\n",
    "for img in os.listdir(path_train_low):\n",
    "    img_low_path=os.path.join(path_train_low, img)\n",
    "    img_high_path=os.path.join(path_train_high, img)\n",
    "    \n",
    "    img_low=load_img(img_low_path, target_size=(40, 40))\n",
    "    img_low=img_to_array(img_low)/255.\n",
    "    \n",
    "    i=i+1\n",
    "    print(\"{:.2f}\".format(i/4.85)+' %',end='\\r')\n",
    "    \n",
    "    img_high=load_img(img_high_path, target_size=(40, 40))\n",
    "    img_high=img_to_array(img_high)/255.\n",
    "    \n",
    "    x_train.append(img_low)\n",
    "    y_train.append(img_high)\n",
    "    \n",
    "print('\\nLoding Test dataset :')\n",
    "i=0;\n",
    "for img in os.listdir(path_test_low):\n",
    "    img_low_path=os.path.join(path_test_low, img)\n",
    "    img_high_path=os.path.join(path_test_high, img)\n",
    "    \n",
    "    img_low=load_img(img_low_path, target_size=(40, 40))\n",
    "    img_low=img_to_array(img_low)/255.\n",
    "    \n",
    "    i=i+1\n",
    "    print(\"{:.2f}\".format(i/0.15)+' %',end='\\r')\n",
    "    \n",
    "    img_high=load_img(img_high_path, target_size=(40, 40))\n",
    "    img_high=img_to_array(img_high)/255.\n",
    "    \n",
    "    x_test.append(img_low)\n",
    "    y_test.append(img_high)\n",
    "\n",
    "x_train=np.array(x_train, dtype=\"float32\")\n",
    "y_train=np.array(y_train, dtype=\"float32\")\n",
    "\n",
    "x_test=np.array(x_test, dtype=\"float32\")\n",
    "y_test=np.array(y_test, dtype=\"float32\")"
   ]
  },
  {
   "cell_type": "code",
   "execution_count": 3,
   "metadata": {},
   "outputs": [],
   "source": [
    "# from keras.callbacks import ModelCheckpoint, EarlyStopping, ReduceLROnPlateau\n",
    "\n",
    "# checkpoint=ModelCheckpoint('models/ref/ref_cnn1_mod.h5',\n",
    "#                             monitor='val_loss',\n",
    "#                             mode='min',\n",
    "#                             save_best_only=True,\n",
    "#                             verbose=1\n",
    "#                           )\n",
    "# earlystop=EarlyStopping(monitor='val_loss',\n",
    "#                         patience=10,\n",
    "#                         min_delta=0,\n",
    "#                         restore_best_weights=True,\n",
    "#                         verbose=1\n",
    "#                        )\n",
    "# reduce_lr=ReduceLROnPlateau(monitor='val_loss',\n",
    "#                             factor=0.2,\n",
    "#                             patience=10,\n",
    "#                             min_delta=0.0001,\n",
    "#                             verbose=1\n",
    "#                            )\n",
    "# callbacks=[checkpoint,earlystop,reduce_lr]\n",
    "\n",
    "# model.compile(loss=keras.losses.MeanSquaredError(),\n",
    "#               optimizer='adam',\n",
    "#               metrics=['accuracy']\n",
    "#              )\n",
    "\n",
    "# history=model.fit(\n",
    "#     x=x_train,\n",
    "#     y=y_train,\n",
    "#     batch_size=32,\n",
    "#     epochs=80,\n",
    "#     validation_data=(x_test, y_test),\n",
    "#     callbacks=callbacks\n",
    "#     )"
   ]
  },
  {
   "cell_type": "code",
   "execution_count": 8,
   "metadata": {},
   "outputs": [
    {
     "data": {
      "image/png": "[encoded data removed]",
      "text/plain": [
       "<Figure size 432x288 with 2 Axes>"
      ]
     },
     "metadata": {
      "needs_background": "light"
     },
     "output_type": "display_data"
    }
   ],
   "source": [
    "model=keras.models.load_model('models/ref/ref_cnn1_mod.h5')\n",
    "fig=plt.figure();\n",
    "\n",
    "def check_result(n):\n",
    "    fig.add_subplot(1,2,1).imshow(y_test[n])\n",
    "    fig.add_subplot(1,2,2).imshow(model.predict(x_test)[n])\n",
    "\n",
    "check_result(6)"
   ]
  },
  {
   "cell_type": "code",
   "execution_count": null,
   "metadata": {},
   "outputs": [],
   "source": []
  }
 ],
 "metadata": {
  "kernelspec": {
   "display_name": "Python 3",
   "language": "python",
   "name": "python3"
  },
  "language_info": {
   "codemirror_mode": {
    "name": "ipython",
    "version": 3
   },
   "file_extension": ".py",
   "mimetype": "text/x-python",
   "name": "python",
   "nbconvert_exporter": "python",
   "pygments_lexer": "ipython3",
   "version": "3.7.9"
  }
 },
 "nbformat": 4,
 "nbformat_minor": 4
}
