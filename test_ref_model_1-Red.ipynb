{
 "cells": [
  {
   "cell_type": "code",
   "execution_count": 1,
   "metadata": {},
   "outputs": [],
   "source": [
    "import numpy as np\n",
    "import matplotlib.pyplot as plt\n",
    "import cv2\n",
    "import keras\n",
    "from keras.preprocessing.image import ImageDataGenerator,load_img,img_to_array\n",
    "from keras.models import Sequential\n",
    "from keras.layers import Conv2D,MaxPooling2D,UpSampling2D,Flatten,Dropout,Dense,BatchNormalization,Reshape"
   ]
  },
  {
   "cell_type": "code",
   "execution_count": 2,
   "metadata": {},
   "outputs": [],
   "source": [
    "def diff(a,b):\n",
    "    c=np.zeros(a.shape);\n",
    "    for i in range(a.shape[0]):\n",
    "        for j in range(a.shape[1]):\n",
    "            for k in range(a.shape[2]):\n",
    "                c[i][j][k]=(1+a[i][j][k]-b[i][j][k])/2;\n",
    "    return(c);"
   ]
  },
  {
   "cell_type": "code",
   "execution_count": 3,
   "metadata": {},
   "outputs": [],
   "source": [
    "def reform(a,c):\n",
    "    b=np.zeros(a.shape);\n",
    "    for i in range(a.shape[0]):\n",
    "        for j in range(a.shape[1]):\n",
    "            for k in range(a.shape[2]):\n",
    "                b[i][j][k]=(1+a[i][j][k])-2*c[i][j][k];\n",
    "    return(b);"
   ]
  },
  {
   "cell_type": "code",
   "execution_count": null,
   "metadata": {},
   "outputs": [
    {
     "name": "stdout",
     "output_type": "stream",
     "text": [
      "\n",
      "Loding Train dataset :\n",
      "72.80 %\r"
     ]
    }
   ],
   "source": [
    "import os\n",
    "\n",
    "x_train=[]\n",
    "y_train=[]\n",
    "x_test=[]\n",
    "y_test=[]\n",
    "\n",
    "path_train_low='../dataSets/ref/our485/low/'\n",
    "path_train_high='../dataSets/ref/our485/high/'\n",
    "path_test_low='../dataSets/ref/eval15/low/'\n",
    "path_test_high='../dataSets/ref/eval15/high/'\n",
    "\n",
    "print('\\nLoding Train dataset :')\n",
    "i=0;\n",
    "for img in os.listdir(path_train_low):\n",
    "    img_low_path=os.path.join(path_train_low, img);\n",
    "    img_high_path=os.path.join(path_train_high, img);\n",
    "    \n",
    "    img_low=load_img(img_low_path, target_size=(64,64));\n",
    "    img_low=img_to_array(img_low)/255.;\n",
    "    \n",
    "    img_high=load_img(img_high_path, target_size=(64,64));\n",
    "    img_high=img_to_array(img_high)/255.;\n",
    "        \n",
    "    Rl,Gl,Bl=cv2.split(img_low);\n",
    "    Rh,Gh,Bh=cv2.split(img_high);\n",
    "\n",
    "    Rl=Rl.reshape((64,64,1));\n",
    "    Rh=Rh.reshape((64,64,1));\n",
    "    Rd=diff(Rl,Rh);\n",
    "    \n",
    "    x_train.append(Rl);\n",
    "    y_train.append(Rd);\n",
    "    \n",
    "    i=i+1;\n",
    "    print(\"{:.2f}\".format(i/4.89)+' %',end='\\r');\n",
    "\n",
    "print('\\nLoding Test dataset :')\n",
    "i=0;\n",
    "for img in os.listdir(path_test_low):\n",
    "    img_low_path=os.path.join(path_test_low, img);\n",
    "    img_high_path=os.path.join(path_test_high, img);\n",
    "    \n",
    "    img_low=load_img(img_low_path, target_size=(64,64));\n",
    "    img_low=img_to_array(img_low)/255.;\n",
    "    \n",
    "    img_high=load_img(img_high_path, target_size=(64,64));\n",
    "    img_high=img_to_array(img_high)/255.;\n",
    "        \n",
    "    Rl,Gl,Bl=cv2.split(img_low);\n",
    "    Rh,Gh,Bh=cv2.split(img_high);\n",
    "    \n",
    "    Rl=Rl.reshape((64,64,1));\n",
    "    Rh=Rh.reshape((64,64,1));\n",
    "    Rd=diff(Rl,Rh);\n",
    "    \n",
    "    x_test.append(Rl);\n",
    "    y_test.append(Rd);\n",
    "    \n",
    "    i=i+1;\n",
    "    print(\"{:.2f}\".format(i/0.14)+' %',end='\\r');\n",
    "\n",
    "x_train=np.array(x_train, dtype=\"float32\");\n",
    "y_train=np.array(y_train, dtype=\"float32\");\n",
    "\n",
    "x_test=np.array(x_test, dtype=\"float32\");\n",
    "y_test=np.array(y_test, dtype=\"float32\");"
   ]
  },
  {
   "cell_type": "code",
   "execution_count": null,
   "metadata": {},
   "outputs": [],
   "source": [
    "x_train.shape"
   ]
  },
  {
   "cell_type": "code",
   "execution_count": null,
   "metadata": {},
   "outputs": [],
   "source": [
    "fig=plt.figure()\n",
    "\n",
    "f=fig.add_subplot(1,2,1)\n",
    "s=fig.add_subplot(1,2,2)\n",
    "\n",
    "f.imshow(x_test[2])\n",
    "s.imshow(y_test[2])"
   ]
  },
  {
   "cell_type": "code",
   "execution_count": null,
   "metadata": {},
   "outputs": [],
   "source": [
    "# RED\n",
    "model=Sequential()\n",
    "\n",
    "model.add(Conv2D(128,(3,3),padding='same',activation='relu',input_shape=(64,64,1)))\n",
    "model.add(UpSampling2D((2,2)))\n",
    "model.add(Conv2D(64,(3,3),padding='same',activation='relu'))\n",
    "model.add(Conv2D(64,(3,3),padding='same',activation='relu'))\n",
    "model.add(MaxPooling2D((2,2)))\n",
    "model.add(Conv2D(3,(1,1),padding='same',activation='sigmoid'))\n",
    "\n",
    "model.summary()"
   ]
  },
  {
   "cell_type": "code",
   "execution_count": null,
   "metadata": {},
   "outputs": [],
   "source": [
    "from keras.callbacks import ModelCheckpoint, EarlyStopping, ReduceLROnPlateau\n",
    "\n",
    "checkpoint=ModelCheckpoint('models/ref/ref_cnn1_red.h5',\n",
    "                            monitor='val_loss',\n",
    "                            mode='min',\n",
    "                            save_best_only=True,\n",
    "                            verbose=1\n",
    "                          )\n",
    "earlystop=EarlyStopping(monitor='val_loss',\n",
    "                        patience=10,\n",
    "                        min_delta=0,\n",
    "                        restore_best_weights=True,\n",
    "                        verbose=1\n",
    "                       )\n",
    "reduce_lr=ReduceLROnPlateau(monitor='val_loss',\n",
    "                            factor=0.2,\n",
    "                            patience=10,\n",
    "                            min_delta=0.0001,\n",
    "                            verbose=1\n",
    "                           )\n",
    "callbacks=[checkpoint,earlystop,reduce_lr]\n",
    "\n",
    "model.compile(loss=keras.losses.MeanSquaredError(),\n",
    "              optimizer='adam',\n",
    "              metrics=['accuracy']\n",
    "             )\n",
    "\n",
    "history=model.fit(\n",
    "    x=x_train,\n",
    "    y=y_train,\n",
    "    batch_size=32,\n",
    "    epochs=200,\n",
    "    validation_data=(x_test, y_test),\n",
    "    callbacks=callbacks\n",
    "    )"
   ]
  },
  {
   "cell_type": "code",
   "execution_count": null,
   "metadata": {},
   "outputs": [],
   "source": [
    "# train_datagen=ImageDataGenerator(\n",
    "#         rescale=1./255,\n",
    "#         rotation_range=30,\n",
    "#         width_shift_range=0.2,\n",
    "#         height_shift_range=0.2,\n",
    "#         shear_range=0.2,\n",
    "#         zoom_range=0.2,\n",
    "#         horizontal_flip=True,\n",
    "#         fill_mode='nearest'\n",
    "#         )\n",
    "# history=model.fit(\n",
    "#     train_datagen.flow(x_train,y_train),\n",
    "#     batch_size=32,\n",
    "#     epochs=200,\n",
    "#     validation_data=(x_test, y_test),\n",
    "#     callbacks=callbacks\n",
    "#     )"
   ]
  },
  {
   "cell_type": "code",
   "execution_count": null,
   "metadata": {},
   "outputs": [],
   "source": [
    "plt.grid()\n",
    "\n",
    "plt.plot(history.history['loss'],'--^r',label=\"loss\")\n",
    "plt.plot(history.history['accuracy'],'--^g',label='accuracy')\n",
    "plt.plot(history.history['val_loss'],'-or',label='val_loss')\n",
    "plt.plot(history.history['val_accuracy'],'-og',label='val_accuracy')\n",
    "plt.legend()"
   ]
  },
  {
   "cell_type": "code",
   "execution_count": null,
   "metadata": {},
   "outputs": [],
   "source": [
    "fig=plt.figure()\n",
    "\n",
    "def check_result(n):\n",
    "    fig.add_subplot(1,2,1).imshow(y_test[n])\n",
    "    fig.add_subplot(1,2,2).imshow(reform(x_test[n],model.predict(x_test)[n]))\n",
    "\n",
    "check_result(2)"
   ]
  },
  {
   "cell_type": "code",
   "execution_count": null,
   "metadata": {},
   "outputs": [],
   "source": [
    "y_test[2]"
   ]
  }
 ],
 "metadata": {
  "kernelspec": {
   "display_name": "Python 3",
   "language": "python",
   "name": "python3"
  },
  "language_info": {
   "codemirror_mode": {
    "name": "ipython",
    "version": 3
   },
   "file_extension": ".py",
   "mimetype": "text/x-python",
   "name": "python",
   "nbconvert_exporter": "python",
   "pygments_lexer": "ipython3",
   "version": "3.7.9"
  }
 },
 "nbformat": 4,
 "nbformat_minor": 4
}
