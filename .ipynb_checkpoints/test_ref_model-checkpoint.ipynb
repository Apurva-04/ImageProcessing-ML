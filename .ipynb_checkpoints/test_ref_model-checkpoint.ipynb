{
 "cells": [
  {
   "cell_type": "code",
   "execution_count": 1,
   "metadata": {},
   "outputs": [],
   "source": [
    "import numpy as np\n",
    "import matplotlib.pyplot as plt\n",
    "import cv2\n",
    "\n",
    "import keras\n",
    "from keras.preprocessing.image import ImageDataGenerator,load_img,img_to_array\n",
    "from keras.models import Sequential\n",
    "from keras.layers import Conv2D,MaxPooling2D,AveragePooling2D,UpSampling2D,Flatten,Dropout,Dense,BatchNormalization,Reshape"
   ]
  },
  {
   "cell_type": "code",
   "execution_count": null,
   "metadata": {},
   "outputs": [
    {
     "name": "stdout",
     "output_type": "stream",
     "text": [
      "\n",
      "Loding Train dataset :\n",
      "0.20 %\r"
     ]
    }
   ],
   "source": [
    "import os\n",
    "\n",
    "x_train=[]\n",
    "y_train=[]\n",
    "x_test=[]\n",
    "y_test=[]\n",
    "\n",
    "path_train_low='../dataSets/ref/our485/low/'\n",
    "path_train_high='../dataSets/ref/our485/high/'\n",
    "path_test_low='../dataSets/ref/eval15/low/'\n",
    "path_test_high='../dataSets/ref/eval15/high/'\n",
    "\n",
    "print('\\nLoding Train dataset :')\n",
    "i=0;\n",
    "for img in os.listdir(path_train_low):\n",
    "    img_low_path=os.path.join(path_train_low, img)\n",
    "    img_high_path=os.path.join(path_train_high, img)\n",
    "    \n",
    "    img_low=load_img(img_low_path, target_size=(64,64))\n",
    "    img_low=cv2.fastNlMeansDenoisingColored(np.array(img_to_array(img_low),dtype='uint8'),None,2,10,6,20)/255.\n",
    "    \n",
    "    i=i+1\n",
    "    print(\"{:.2f}\".format(i/4.89)+' %',end='\\r')\n",
    "    \n",
    "    img_high=load_img(img_high_path, target_size=(64,64))\n",
    "    img_high=cv2.fastNlMeansDenoisingColored(np.array(img_to_array(img_high),dtype='uint8'),None,2,10,6,20)/255.\n",
    "    \n",
    "    x_train.append(img_low)\n",
    "    y_train.append(img_high)\n",
    "#     Rx,Gx,Bx=cv2.split(img_low)\n",
    "#     Ry,Gy,By=cv2.split(img_high)\n",
    "    \n",
    "#     x_train.append(Rx)\n",
    "#     y_train.append(Ry)\n",
    "    \n",
    "print('\\nLoding Test dataset :')\n",
    "i=0;\n",
    "for img in os.listdir(path_test_low):\n",
    "    img_low_path=os.path.join(path_test_low, img)\n",
    "    img_high_path=os.path.join(path_test_high, img)\n",
    "    \n",
    "    img_low=load_img(img_low_path, target_size=(64,64))\n",
    "    img_low=cv2.fastNlMeansDenoisingColored(np.array(img_to_array(img_low),dtype='uint8'),None,2,10,6,20)/255.\n",
    "    \n",
    "    i=i+1\n",
    "    print(\"{:.2f}\".format(i/0.14)+' %',end='\\r')\n",
    "    \n",
    "    img_high=load_img(img_high_path, target_size=(64,64))\n",
    "    img_high=cv2.fastNlMeansDenoisingColored(np.array(img_to_array(img_high),dtype='uint8'),None,2,10,6,20)/255.\n",
    "    \n",
    "    x_test.append(img_low)\n",
    "    y_test.append(img_high)\n",
    "#     Rx,Gx,Bx=cv2.split(img_low)\n",
    "#     Ry,Gy,By=cv2.split(img_high)\n",
    "    \n",
    "#     x_test.append(Rx)\n",
    "#     y_test.append(Ry)\n",
    "\n",
    "x_train=np.array(x_train, dtype=\"float32\")\n",
    "y_train=np.array(y_train, dtype=\"float32\")\n",
    "\n",
    "x_test=np.array(x_test, dtype=\"float32\")\n",
    "y_test=np.array(y_test, dtype=\"float32\")\n",
    "\n",
    "# x_train=np.expand_dims(np.array(x_train, dtype=\"float32\"),3)\n",
    "# y_train=np.expand_dims(np.array(y_train, dtype=\"float32\"),3)\n",
    "\n",
    "# x_test=np.expand_dims(np.array(x_test, dtype=\"float32\"),3)\n",
    "# y_test=np.expand_dims(np.array(y_test, dtype=\"float32\"),3)"
   ]
  },
  {
   "cell_type": "code",
   "execution_count": null,
   "metadata": {},
   "outputs": [],
   "source": [
    "y_train.shape"
   ]
  },
  {
   "cell_type": "code",
   "execution_count": null,
   "metadata": {},
   "outputs": [],
   "source": [
    "fig=plt.figure()\n",
    "\n",
    "f=fig.add_subplot(1,2,1)\n",
    "s=fig.add_subplot(1,2,2)\n",
    "\n",
    "f.imshow(x_test[8])\n",
    "s.imshow(y_test[8])"
   ]
  },
  {
   "cell_type": "code",
   "execution_count": null,
   "metadata": {},
   "outputs": [],
   "source": [
    "model=Sequential()\n",
    "\n",
    "model.add(UpSampling2D((3,3),input_shape=(64,64,3)))\n",
    "model.add(Conv2D(128,(5,5),padding='same',activation='elu'))\n",
    "model.add(Conv2D(64,(3,3),padding='same',activation='elu'))\n",
    "model.add(Conv2D(64,(3,3),padding='same',activation='elu'))\n",
    "model.add(AveragePooling2D((3,3)))\n",
    "model.add(Conv2D(3,(1,1),padding='same',activation='sigmoid'))\n",
    "\n",
    "model.summary()"
   ]
  },
  {
   "cell_type": "code",
   "execution_count": null,
   "metadata": {},
   "outputs": [],
   "source": [
    "from keras.callbacks import ModelCheckpoint, EarlyStopping, ReduceLROnPlateau\n",
    "\n",
    "checkpoint=ModelCheckpoint('models/ref/ref_cnn.h5',\n",
    "                            monitor='val_loss',\n",
    "                            mode='min',\n",
    "                            save_best_only=True,\n",
    "                            verbose=1\n",
    "                          )\n",
    "earlystop=EarlyStopping(monitor='val_loss',\n",
    "                        patience=6,\n",
    "                        min_delta=0,\n",
    "                        restore_best_weights=True,\n",
    "                        verbose=1\n",
    "                       )\n",
    "reduce_lr=ReduceLROnPlateau(monitor='val_loss',\n",
    "                            factor=0.2,\n",
    "                            patience=6,\n",
    "                            min_delta=0.0001,\n",
    "                            verbose=1\n",
    "                           )\n",
    "callbacks=[checkpoint,earlystop,reduce_lr]\n",
    "\n",
    "model.compile(loss=keras.losses.MeanAbsoluteError(),\n",
    "              optimizer='adam',\n",
    "              metrics=['accuracy']\n",
    "             )\n",
    "\n",
    "history=model.fit(\n",
    "    x=x_train,\n",
    "    y=y_train,\n",
    "    batch_size=32,\n",
    "    epochs=50,\n",
    "    validation_data=(x_test, y_test),\n",
    "    callbacks=callbacks\n",
    "    )"
   ]
  },
  {
   "cell_type": "code",
   "execution_count": null,
   "metadata": {},
   "outputs": [],
   "source": [
    "plt.grid()\n",
    "\n",
    "plt.plot(history.history['loss'],'--^r',label=\"loss\")\n",
    "plt.plot(history.history['accuracy'],'--^g',label='accuracy')\n",
    "plt.plot(history.history['val_loss'],'-or',label='val_loss')\n",
    "plt.plot(history.history['val_accuracy'],'-og',label='val_accuracy')\n",
    "plt.legend()"
   ]
  },
  {
   "cell_type": "code",
   "execution_count": null,
   "metadata": {},
   "outputs": [],
   "source": [
    "fig=plt.figure()\n",
    "\n",
    "def check_result(n):\n",
    "    fig.add_subplot(1,2,1).imshow(y_test[n])\n",
    "    fig.add_subplot(1,2,2).imshow(model.predict(x_test)[n])\n",
    "\n",
    "check_result(3)"
   ]
  },
  {
   "cell_type": "code",
   "execution_count": null,
   "metadata": {},
   "outputs": [],
   "source": [
    "# #img=cv2.imread('../dataSets/pic2.jpeg')\n",
    "# img=np.array(model.predict(x_test)[2]*255,dtype=np.uint8)\n",
    "# R,G,B=cv2.split(img)\n",
    "\n",
    "# # equ_R=cv2.equalizeHist(R)\n",
    "# # equ_G=cv2.equalizeHist(G)\n",
    "# # equ_B=cv2.equalizeHist(B)\n",
    "\n",
    "# clahe = cv2.createCLAHE(clipLimit=1.0, tileGridSize=(10,10))\n",
    "# equ_R = clahe.apply(R)\n",
    "# equ_G = clahe.apply(G)\n",
    "# equ_B = clahe.apply(B)\n",
    "\n",
    "# equ=cv2.merge((equ_R,equ_G,equ_B))\n",
    "\n",
    "# res = np.hstack((img,equ))\n",
    "\n",
    "# cv2.imshow('img',res)\n",
    "# cv2.waitKey(5000)\n",
    "# cv2.destroyWindow('img')"
   ]
  },
  {
   "cell_type": "code",
   "execution_count": null,
   "metadata": {},
   "outputs": [],
   "source": []
  }
 ],
 "metadata": {
  "kernelspec": {
   "display_name": "Python 3",
   "language": "python",
   "name": "python3"
  },
  "language_info": {
   "codemirror_mode": {
    "name": "ipython",
    "version": 3
   },
   "file_extension": ".py",
   "mimetype": "text/x-python",
   "name": "python",
   "nbconvert_exporter": "python",
   "pygments_lexer": "ipython3",
   "version": "3.7.9"
  }
 },
 "nbformat": 4,
 "nbformat_minor": 4
}
