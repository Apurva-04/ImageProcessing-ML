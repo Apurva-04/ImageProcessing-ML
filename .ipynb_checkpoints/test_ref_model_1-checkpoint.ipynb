{
 "cells": [
  {
   "cell_type": "code",
   "execution_count": 1,
   "metadata": {},
   "outputs": [],
   "source": [
    "import numpy as np\n",
    "import matplotlib.pyplot as plt\n",
    "import keras\n",
    "from keras.preprocessing.image import ImageDataGenerator,load_img,img_to_array\n",
    "from keras.models import Sequential\n",
    "from keras.layers import Conv2D,MaxPooling2D,UpSampling2D,Flatten,Dropout,Dense,BatchNormalization,Reshape"
   ]
  },
  {
   "cell_type": "code",
   "execution_count": 2,
   "metadata": {},
   "outputs": [
    {
     "name": "stdout",
     "output_type": "stream",
     "text": [
      "\n",
      "Loding Train dataset :\n",
      "100.00 %\n",
      "Loding Test dataset :\n",
      "100.00 %\r"
     ]
    }
   ],
   "source": [
    "import os\n",
    "\n",
    "x_train=[]\n",
    "y_train=[]\n",
    "x_test=[]\n",
    "y_test=[]\n",
    "\n",
    "path_train_low='../dataSets/ref/our485/low/'\n",
    "path_train_high='../dataSets/ref/our485/high/'\n",
    "path_test_low='../dataSets/ref/eval15/low/'\n",
    "path_test_high='../dataSets/ref/eval15/high/'\n",
    "\n",
    "print('\\nLoding Train dataset :')\n",
    "i=0;\n",
    "for img in os.listdir(path_train_low):\n",
    "    img_low_path=os.path.join(path_train_low, img)\n",
    "    img_high_path=os.path.join(path_train_high, img)\n",
    "    \n",
    "    img_low=load_img(img_low_path, target_size=(40, 40))\n",
    "    img_low=img_to_array(img_low)/255.\n",
    "    \n",
    "    i=i+1\n",
    "    print(\"{:.2f}\".format(i/4.85)+' %',end='\\r')\n",
    "    \n",
    "    img_high=load_img(img_high_path, target_size=(40, 40))\n",
    "    img_high=img_to_array(img_high)/255.\n",
    "    \n",
    "    x_train.append(img_low)\n",
    "    y_train.append(img_high)\n",
    "    \n",
    "print('\\nLoding Test dataset :')\n",
    "i=0;\n",
    "for img in os.listdir(path_test_low):\n",
    "    img_low_path=os.path.join(path_test_low, img)\n",
    "    img_high_path=os.path.join(path_test_high, img)\n",
    "    \n",
    "    img_low=load_img(img_low_path, target_size=(40, 40))\n",
    "    img_low=img_to_array(img_low)/255.\n",
    "    \n",
    "    i=i+1\n",
    "    print(\"{:.2f}\".format(i/0.15)+' %',end='\\r')\n",
    "    \n",
    "    img_high=load_img(img_high_path, target_size=(40, 40))\n",
    "    img_high=img_to_array(img_high)/255.\n",
    "    \n",
    "    x_test.append(img_low)\n",
    "    y_test.append(img_high)\n",
    "\n",
    "x_train=np.array(x_train, dtype=\"float32\")\n",
    "y_train=np.array(y_train, dtype=\"float32\")\n",
    "\n",
    "x_test=np.array(x_test, dtype=\"float32\")\n",
    "y_test=np.array(y_test, dtype=\"float32\")"
   ]
  },
  {
   "cell_type": "code",
   "execution_count": 3,
   "metadata": {},
   "outputs": [
    {
     "data": {
      "text/plain": [
       "<matplotlib.image.AxesImage at 0x241ea63f3c8>"
      ]
     },
     "execution_count": 3,
     "metadata": {},
     "output_type": "execute_result"
    },
    {
     "data": {
      "image/png": "[encoded data removed]",
      "text/plain": [
       "<Figure size 432x288 with 2 Axes>"
      ]
     },
     "metadata": {
      "needs_background": "light"
     },
     "output_type": "display_data"
    }
   ],
   "source": [
    "fig=plt.figure()\n",
    "\n",
    "f=fig.add_subplot(1,2,1)\n",
    "s=fig.add_subplot(1,2,2)\n",
    "\n",
    "f.imshow(x_test[2])\n",
    "s.imshow(y_test[2])"
   ]
  },
  {
   "cell_type": "code",
   "execution_count": 4,
   "metadata": {},
   "outputs": [
    {
     "name": "stdout",
     "output_type": "stream",
     "text": [
      "Model: \"sequential\"\n",
      "_________________________________________________________________\n",
      "Layer (type)                 Output Shape              Param #   \n",
      "=================================================================\n",
      "conv2d (Conv2D)              (None, 40, 40, 64)        1792      \n",
      "_________________________________________________________________\n",
      "conv2d_1 (Conv2D)            (None, 40, 40, 32)        18464     \n",
      "_________________________________________________________________\n",
      "flatten (Flatten)            (None, 51200)             0         \n",
      "_________________________________________________________________\n",
      "dense (Dense)                (None, 4800)              245764800 \n",
      "_________________________________________________________________\n",
      "dense_1 (Dense)              (None, 4800)              23044800  \n",
      "_________________________________________________________________\n",
      "reshape (Reshape)            (None, 40, 40, 3)         0         \n",
      "=================================================================\n",
      "Total params: 268,829,856\n",
      "Trainable params: 268,829,856\n",
      "Non-trainable params: 0\n",
      "_________________________________________________________________\n"
     ]
    }
   ],
   "source": [
    "model=Sequential()\n",
    "\n",
    "#upsampling\n",
    "model.add(Conv2D(64,(3,3),padding='same',activation='relu',input_shape=(40,40,3)))\n",
    "model.add(Conv2D(32,(3,3),padding='same',activation='elu'))\n",
    "model.add(Flatten())\n",
    "model.add(Dense(3*40*40,activation='elu'))\n",
    "model.add(Dense(3*40*40,activation='sigmoid'))\n",
    "model.add(Reshape((40,40,3)))\n",
    "\n",
    "model.summary()"
   ]
  },
  {
   "cell_type": "code",
   "execution_count": 5,
   "metadata": {},
   "outputs": [
    {
     "name": "stdout",
     "output_type": "stream",
     "text": [
      "Epoch 1/40\n",
      "16/16 [==============================] - ETA: 0s - loss: 0.0480 - accuracy: 0.3907\n",
      "Epoch 00001: val_loss improved from inf to 0.05000, saving model to models/ref\\ref_cnn1.h5\n",
      "16/16 [==============================] - 49s 3s/step - loss: 0.0480 - accuracy: 0.3907 - val_loss: 0.0500 - val_accuracy: 0.4247\n",
      "Epoch 2/40\n",
      "16/16 [==============================] - ETA: 0s - loss: 0.0396 - accuracy: 0.4453\n",
      "Epoch 00002: val_loss improved from 0.05000 to 0.04485, saving model to models/ref\\ref_cnn1.h5\n",
      "16/16 [==============================] - 48s 3s/step - loss: 0.0396 - accuracy: 0.4453 - val_loss: 0.0448 - val_accuracy: 0.4587\n",
      "Epoch 3/40\n",
      "16/16 [==============================] - ETA: 0s - loss: 0.0335 - accuracy: 0.5016\n",
      "Epoch 00003: val_loss improved from 0.04485 to 0.03630, saving model to models/ref\\ref_cnn1.h5\n",
      "16/16 [==============================] - 58s 4s/step - loss: 0.0335 - accuracy: 0.5016 - val_loss: 0.0363 - val_accuracy: 0.4910\n",
      "Epoch 4/40\n",
      "16/16 [==============================] - ETA: 0s - loss: 0.0283 - accuracy: 0.5370\n",
      "Epoch 00004: val_loss improved from 0.03630 to 0.03373, saving model to models/ref\\ref_cnn1.h5\n",
      "16/16 [==============================] - 68s 4s/step - loss: 0.0283 - accuracy: 0.5370 - val_loss: 0.0337 - val_accuracy: 0.5067\n",
      "Epoch 5/40\n",
      "16/16 [==============================] - ETA: 0s - loss: 0.0241 - accuracy: 0.5550\n",
      "Epoch 00005: val_loss improved from 0.03373 to 0.03036, saving model to models/ref\\ref_cnn1.h5\n",
      "16/16 [==============================] - 58s 4s/step - loss: 0.0241 - accuracy: 0.5550 - val_loss: 0.0304 - val_accuracy: 0.5422\n",
      "Epoch 6/40\n",
      "16/16 [==============================] - ETA: 0s - loss: 0.0211 - accuracy: 0.5702\n",
      "Epoch 00006: val_loss improved from 0.03036 to 0.02834, saving model to models/ref\\ref_cnn1.h5\n",
      "16/16 [==============================] - 66s 4s/step - loss: 0.0211 - accuracy: 0.5702 - val_loss: 0.0283 - val_accuracy: 0.5769\n",
      "Epoch 7/40\n",
      "16/16 [==============================] - ETA: 0s - loss: 0.0172 - accuracy: 0.5991\n",
      "Epoch 00007: val_loss improved from 0.02834 to 0.02544, saving model to models/ref\\ref_cnn1.h5\n",
      "16/16 [==============================] - 56s 4s/step - loss: 0.0172 - accuracy: 0.5991 - val_loss: 0.0254 - val_accuracy: 0.6063\n",
      "Epoch 8/40\n",
      "16/16 [==============================] - ETA: 0s - loss: 0.0152 - accuracy: 0.6078\n",
      "Epoch 00008: val_loss improved from 0.02544 to 0.02220, saving model to models/ref\\ref_cnn1.h5\n",
      "16/16 [==============================] - 50s 3s/step - loss: 0.0152 - accuracy: 0.6078 - val_loss: 0.0222 - val_accuracy: 0.6115\n",
      "Epoch 9/40\n",
      "16/16 [==============================] - ETA: 0s - loss: 0.0124 - accuracy: 0.6348\n",
      "Epoch 00009: val_loss improved from 0.02220 to 0.01859, saving model to models/ref\\ref_cnn1.h5\n",
      "16/16 [==============================] - 59s 4s/step - loss: 0.0124 - accuracy: 0.6348 - val_loss: 0.0186 - val_accuracy: 0.6158\n",
      "Epoch 10/40\n",
      "16/16 [==============================] - ETA: 0s - loss: 0.0107 - accuracy: 0.6567\n",
      "Epoch 00010: val_loss did not improve from 0.01859\n",
      "16/16 [==============================] - 36s 2s/step - loss: 0.0107 - accuracy: 0.6567 - val_loss: 0.0218 - val_accuracy: 0.6462\n",
      "Epoch 11/40\n",
      "16/16 [==============================] - ETA: 0s - loss: 0.0093 - accuracy: 0.6691\n",
      "Epoch 00011: val_loss improved from 0.01859 to 0.01725, saving model to models/ref\\ref_cnn1.h5\n",
      "16/16 [==============================] - 58s 4s/step - loss: 0.0093 - accuracy: 0.6691 - val_loss: 0.0172 - val_accuracy: 0.6657\n",
      "Epoch 12/40\n",
      "16/16 [==============================] - ETA: 0s - loss: 0.0082 - accuracy: 0.6917\n",
      "Epoch 00012: val_loss improved from 0.01725 to 0.01662, saving model to models/ref\\ref_cnn1.h5\n",
      "16/16 [==============================] - 84s 5s/step - loss: 0.0082 - accuracy: 0.6917 - val_loss: 0.0166 - val_accuracy: 0.6604\n",
      "Epoch 13/40\n",
      "16/16 [==============================] - ETA: 0s - loss: 0.0083 - accuracy: 0.6969\n",
      "Epoch 00013: val_loss did not improve from 0.01662\n",
      "16/16 [==============================] - 33s 2s/step - loss: 0.0083 - accuracy: 0.6969 - val_loss: 0.0167 - val_accuracy: 0.6698\n",
      "Epoch 14/40\n",
      "16/16 [==============================] - ETA: 0s - loss: 0.0073 - accuracy: 0.7092\n",
      "Epoch 00014: val_loss improved from 0.01662 to 0.01463, saving model to models/ref\\ref_cnn1.h5\n",
      "16/16 [==============================] - 50s 3s/step - loss: 0.0073 - accuracy: 0.7092 - val_loss: 0.0146 - val_accuracy: 0.6853\n",
      "Epoch 15/40\n",
      "16/16 [==============================] - ETA: 0s - loss: 0.0063 - accuracy: 0.7213\n",
      "Epoch 00015: val_loss did not improve from 0.01463\n",
      "16/16 [==============================] - 39s 2s/step - loss: 0.0063 - accuracy: 0.7213 - val_loss: 0.0147 - val_accuracy: 0.6972\n",
      "Epoch 16/40\n",
      "16/16 [==============================] - ETA: 0s - loss: 0.0060 - accuracy: 0.7341\n",
      "Epoch 00016: val_loss improved from 0.01463 to 0.01272, saving model to models/ref\\ref_cnn1.h5\n",
      "16/16 [==============================] - 49s 3s/step - loss: 0.0060 - accuracy: 0.7341 - val_loss: 0.0127 - val_accuracy: 0.7048\n",
      "Epoch 17/40\n",
      "16/16 [==============================] - ETA: 0s - loss: 0.0050 - accuracy: 0.7399\n",
      "Epoch 00017: val_loss improved from 0.01272 to 0.01169, saving model to models/ref\\ref_cnn1.h5\n",
      "16/16 [==============================] - 51s 3s/step - loss: 0.0050 - accuracy: 0.7399 - val_loss: 0.0117 - val_accuracy: 0.6999\n",
      "Epoch 18/40\n",
      "16/16 [==============================] - ETA: 0s - loss: 0.0044 - accuracy: 0.7592\n",
      "Epoch 00018: val_loss did not improve from 0.01169\n",
      "16/16 [==============================] - 38s 2s/step - loss: 0.0044 - accuracy: 0.7592 - val_loss: 0.0127 - val_accuracy: 0.7347\n",
      "Epoch 19/40\n",
      "16/16 [==============================] - ETA: 0s - loss: 0.0039 - accuracy: 0.7701\n",
      "Epoch 00019: val_loss did not improve from 0.01169\n",
      "16/16 [==============================] - 32s 2s/step - loss: 0.0039 - accuracy: 0.7701 - val_loss: 0.0133 - val_accuracy: 0.7388\n",
      "Epoch 20/40\n",
      "16/16 [==============================] - ETA: 0s - loss: 0.0039 - accuracy: 0.7868\n",
      "Epoch 00020: val_loss improved from 0.01169 to 0.01142, saving model to models/ref\\ref_cnn1.h5\n",
      "16/16 [==============================] - 51s 3s/step - loss: 0.0039 - accuracy: 0.7868 - val_loss: 0.0114 - val_accuracy: 0.7273\n",
      "Epoch 21/40\n",
      "16/16 [==============================] - ETA: 0s - loss: 0.0036 - accuracy: 0.7826\n",
      "Epoch 00021: val_loss did not improve from 0.01142\n",
      "16/16 [==============================] - 42s 3s/step - loss: 0.0036 - accuracy: 0.7826 - val_loss: 0.0117 - val_accuracy: 0.7706\n",
      "Epoch 22/40\n",
      "16/16 [==============================] - ETA: 0s - loss: 0.0032 - accuracy: 0.7971\n",
      "Epoch 00022: val_loss improved from 0.01142 to 0.01075, saving model to models/ref\\ref_cnn1.h5\n",
      "16/16 [==============================] - 49s 3s/step - loss: 0.0032 - accuracy: 0.7971 - val_loss: 0.0107 - val_accuracy: 0.7833\n",
      "Epoch 23/40\n",
      "16/16 [==============================] - ETA: 0s - loss: 0.0031 - accuracy: 0.8040\n",
      "Epoch 00023: val_loss did not improve from 0.01075\n",
      "16/16 [==============================] - 41s 3s/step - loss: 0.0031 - accuracy: 0.8040 - val_loss: 0.0109 - val_accuracy: 0.7883\n",
      "Epoch 24/40\n",
      "16/16 [==============================] - ETA: 0s - loss: 0.0028 - accuracy: 0.8099\n",
      "Epoch 00024: val_loss improved from 0.01075 to 0.00997, saving model to models/ref\\ref_cnn1.h5\n",
      "16/16 [==============================] - 50s 3s/step - loss: 0.0028 - accuracy: 0.8099 - val_loss: 0.0100 - val_accuracy: 0.7758\n",
      "Epoch 25/40\n",
      "16/16 [==============================] - ETA: 0s - loss: 0.0024 - accuracy: 0.8227\n",
      "Epoch 00025: val_loss did not improve from 0.00997\n",
      "16/16 [==============================] - 35s 2s/step - loss: 0.0024 - accuracy: 0.8227 - val_loss: 0.0105 - val_accuracy: 0.7830\n",
      "Epoch 26/40\n",
      "16/16 [==============================] - ETA: 0s - loss: 0.0022 - accuracy: 0.8262\n",
      "Epoch 00026: val_loss improved from 0.00997 to 0.00965, saving model to models/ref\\ref_cnn1.h5\n",
      "16/16 [==============================] - 57s 4s/step - loss: 0.0022 - accuracy: 0.8262 - val_loss: 0.0097 - val_accuracy: 0.7656\n",
      "Epoch 27/40\n",
      "16/16 [==============================] - ETA: 0s - loss: 0.0021 - accuracy: 0.8262\n",
      "Epoch 00027: val_loss did not improve from 0.00965\n",
      "16/16 [==============================] - 40s 2s/step - loss: 0.0021 - accuracy: 0.8262 - val_loss: 0.0100 - val_accuracy: 0.7872\n",
      "Epoch 28/40\n",
      "16/16 [==============================] - ETA: 0s - loss: 0.0018 - accuracy: 0.8335\n",
      "Epoch 00028: val_loss did not improve from 0.00965\n",
      "16/16 [==============================] - 35s 2s/step - loss: 0.0018 - accuracy: 0.8335 - val_loss: 0.0106 - val_accuracy: 0.8167\n",
      "Epoch 29/40\n",
      "16/16 [==============================] - ETA: 0s - loss: 0.0015 - accuracy: 0.8447\n",
      "Epoch 00029: val_loss improved from 0.00965 to 0.00841, saving model to models/ref\\ref_cnn1.h5\n",
      "16/16 [==============================] - 59s 4s/step - loss: 0.0015 - accuracy: 0.8447 - val_loss: 0.0084 - val_accuracy: 0.7969\n",
      "Epoch 30/40\n",
      "16/16 [==============================] - ETA: 0s - loss: 0.0016 - accuracy: 0.8531\n",
      "Epoch 00030: val_loss did not improve from 0.00841\n",
      "16/16 [==============================] - 59s 4s/step - loss: 0.0016 - accuracy: 0.8531 - val_loss: 0.0095 - val_accuracy: 0.8177\n",
      "Epoch 31/40\n",
      "16/16 [==============================] - ETA: 0s - loss: 0.0021 - accuracy: 0.8446\n",
      "Epoch 00031: val_loss did not improve from 0.00841\n",
      "16/16 [==============================] - 40s 2s/step - loss: 0.0021 - accuracy: 0.8446 - val_loss: 0.0099 - val_accuracy: 0.8077\n",
      "Epoch 32/40\n",
      "16/16 [==============================] - ETA: 0s - loss: 0.0020 - accuracy: 0.8343\n",
      "Epoch 00032: val_loss did not improve from 0.00841\n",
      "16/16 [==============================] - 40s 2s/step - loss: 0.0020 - accuracy: 0.8343 - val_loss: 0.0087 - val_accuracy: 0.8221\n",
      "Epoch 33/40\n",
      "16/16 [==============================] - ETA: 0s - loss: 0.0016 - accuracy: 0.8529\n",
      "Epoch 00033: val_loss did not improve from 0.00841\n",
      "16/16 [==============================] - 39s 2s/step - loss: 0.0016 - accuracy: 0.8529 - val_loss: 0.0089 - val_accuracy: 0.8255\n",
      "Epoch 34/40\n",
      "16/16 [==============================] - ETA: 0s - loss: 0.0014 - accuracy: 0.8518\n",
      "Epoch 00034: val_loss did not improve from 0.00841\n",
      "Restoring model weights from the end of the best epoch.\n",
      "\n",
      "Epoch 00034: ReduceLROnPlateau reducing learning rate to 0.00020000000949949026.\n",
      "16/16 [==============================] - 40s 2s/step - loss: 0.0014 - accuracy: 0.8518 - val_loss: 0.0104 - val_accuracy: 0.8283\n",
      "Epoch 00034: early stopping\n"
     ]
    }
   ],
   "source": [
    "from keras.callbacks import ModelCheckpoint, EarlyStopping, ReduceLROnPlateau\n",
    "\n",
    "checkpoint=ModelCheckpoint('models/ref/ref_cnn1.h5',\n",
    "                            monitor='val_loss',\n",
    "                            mode='min',\n",
    "                            save_best_only=True,\n",
    "                            verbose=1\n",
    "                          )\n",
    "earlystop=EarlyStopping(monitor='val_loss',\n",
    "                        patience=10,\n",
    "                        min_delta=0,\n",
    "                        restore_best_weights=True,\n",
    "                        verbose=1\n",
    "                       )\n",
    "reduce_lr=ReduceLROnPlateau(monitor='val_loss',\n",
    "                            factor=0.2,\n",
    "                            patience=10,\n",
    "                            min_delta=0.0001,\n",
    "                            verbose=1\n",
    "                           )\n",
    "callbacks=[checkpoint,earlystop,reduce_lr]\n",
    "\n",
    "model.compile(loss=keras.losses.MeanSquaredError(),\n",
    "              optimizer='adam',\n",
    "              metrics=['accuracy']\n",
    "             )\n",
    "\n",
    "history=model.fit(\n",
    "    x=x_train,\n",
    "    y=y_train,\n",
    "    batch_size=32,\n",
    "    epochs=200,\n",
    "    validation_data=(x_test, y_test),\n",
    "    callbacks=callbacks\n",
    "    )"
   ]
  },
  {
   "cell_type": "code",
   "execution_count": 8,
   "metadata": {},
   "outputs": [
    {
     "data": {
      "text/plain": [
       "<matplotlib.legend.Legend at 0x241f6caddc8>"
      ]
     },
     "execution_count": 8,
     "metadata": {},
     "output_type": "execute_result"
    },
    {
     "data": {
      "image/png": "[encoded data removed]",
      "text/plain": [
       "<Figure size 432x288 with 1 Axes>"
      ]
     },
     "metadata": {
      "needs_background": "light"
     },
     "output_type": "display_data"
    }
   ],
   "source": [
    "plt.grid()\n",
    "\n",
    "plt.plot(history.history['loss'],'--^r',label=\"loss\")\n",
    "plt.plot(history.history['accuracy'],'--^g',label='accuracy')\n",
    "plt.plot(history.history['val_loss'],'-or',label='val_loss')\n",
    "plt.plot(history.history['val_accuracy'],'-og',label='val_accuracy')\n",
    "plt.legend()"
   ]
  },
  {
   "cell_type": "code",
   "execution_count": 10,
   "metadata": {},
   "outputs": [
    {
     "data": {
      "image/png": "[encoded data removed]",
      "text/plain": [
       "<Figure size 432x288 with 2 Axes>"
      ]
     },
     "metadata": {
      "needs_background": "light"
     },
     "output_type": "display_data"
    }
   ],
   "source": [
    "fig=plt.figure()\n",
    "\n",
    "def check_result(n):\n",
    "    fig.add_subplot(1,2,1).imshow(y_test[n])\n",
    "    fig.add_subplot(1,2,2).imshow(model.predict(x_test)[n])\n",
    "\n",
    "check_result(1)"
   ]
  },
  {
   "cell_type": "code",
   "execution_count": null,
   "metadata": {},
   "outputs": [],
   "source": []
  }
 ],
 "metadata": {
  "kernelspec": {
   "display_name": "Python 3",
   "language": "python",
   "name": "python3"
  },
  "language_info": {
   "codemirror_mode": {
    "name": "ipython",
    "version": 3
   },
   "file_extension": ".py",
   "mimetype": "text/x-python",
   "name": "python",
   "nbconvert_exporter": "python",
   "pygments_lexer": "ipython3",
   "version": "3.7.9"
  }
 },
 "nbformat": 4,
 "nbformat_minor": 4
}
